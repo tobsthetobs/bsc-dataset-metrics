{
 "cells": [
  {
   "attachments": {},
   "cell_type": "markdown",
   "metadata": {},
   "source": [
    "# Information Theory \n",
    "This notebook is used for notes."
   ]
  },
  {
   "attachments": {},
   "cell_type": "markdown",
   "metadata": {},
   "source": [
    "#### Shannons entropy \n",
    "In information theory unpredictability is measured by means of Shannon's entropy this is defined as: \n",
    "\n",
    "Given a discrete random variable $X$ that can take on possible values such as $\\{x_1,\\dots,x_N\\}$ it is then calculated as:\n",
    "\\begin{equation}\n",
    "H(X) = - \\sum_{i=1}^{N} p(x_i) \\log_2 p(x_i) \n",
    "\\end{equation}\n",
    "This can also be calculated using python for our datasets:"
   ]
  },
  {
   "cell_type": "code",
   "execution_count": 1,
   "metadata": {},
   "outputs": [],
   "source": [
    "# Import statements\n",
    "import os\n",
    "import sys\n",
    "import numpy as np\n",
    "# Import local code\n",
    "bachelorpath = os.path.normpath(os.getcwd() + os.sep + os.pardir)\n",
    "scriptpath = bachelorpath + '/scripts/'\n",
    "sys.path.insert(0, scriptpath)\n",
    "import BP_ratio as bp\n",
    "import dataset_plotting as dp\n",
    "import motion_blur as mb \n",
    "import imu_accel as imu_accel"
   ]
  },
  {
   "cell_type": "code",
   "execution_count": 2,
   "metadata": {},
   "outputs": [],
   "source": [
    "# Below function implements shannons entropy for a given list.\n",
    "def calculate_shannon_entropy(data):\n",
    "    N = len(data)\n",
    "    counts = {}\n",
    "    for i in data:\n",
    "        if i not in counts:\n",
    "            counts[i] = 0\n",
    "        counts[i] += 1\n",
    "    entropy = 0\n",
    "    for count in counts.values():\n",
    "        probability = count / N\n",
    "        entropy -= probability * np.log2(probability)\n",
    "    return entropy"
   ]
  },
  {
   "attachments": {},
   "cell_type": "markdown",
   "metadata": {},
   "source": [
    "## Deployed on Datasets\n",
    "Lets start by deploying this algorithm upon AQUALOC."
   ]
  },
  {
   "cell_type": "code",
   "execution_count": 3,
   "metadata": {},
   "outputs": [
    {
     "name": "stdout",
     "output_type": "stream",
     "text": [
      "Scanning next folder current total of images processed:  3682\n",
      "Scanning next folder current total of images processed:  7364\n",
      "11.84627391135028\n",
      "11.84627391135028\n"
     ]
    }
   ],
   "source": [
    "data_mb_euroc_mh1 = mb.load_euroc_dataset(True)\n",
    "for i in data_mb_euroc_mh1:\n",
    "    print(calculate_shannon_entropy(i))"
   ]
  },
  {
   "cell_type": "code",
   "execution_count": 4,
   "metadata": {},
   "outputs": [
    {
     "name": "stdout",
     "output_type": "stream",
     "text": [
      "Scanning next folder current total of images processed:  2273\n",
      "Scanning next folder current total of images processed:  4546\n",
      "11.150381968817305\n",
      "11.150381968817305\n"
     ]
    }
   ],
   "source": [
    "data_mb_euroc_mh5 = mb.load_euroc_dataset(True)\n",
    "for i in data_mb_euroc_mh5:\n",
    "    print(calculate_shannon_entropy(i))"
   ]
  },
  {
   "cell_type": "code",
   "execution_count": 5,
   "metadata": {},
   "outputs": [
    {
     "name": "stdout",
     "output_type": "stream",
     "text": [
      "Scanning next folder current total of images processed:  4586\n",
      "Scanning next folder current total of images processed:  12728\n",
      "Scanning next folder current total of images processed:  17879\n"
     ]
    }
   ],
   "source": [
    "data_mb_aqualoc = mb.load_aqualoc_dataset()"
   ]
  },
  {
   "cell_type": "code",
   "execution_count": 6,
   "metadata": {},
   "outputs": [
    {
     "name": "stdout",
     "output_type": "stream",
     "text": [
      "12.16302063958039\n",
      "12.991167506141776\n",
      "12.330636824723998\n"
     ]
    }
   ],
   "source": [
    "for i in data_mb_aqualoc:\n",
    "    print(calculate_shannon_entropy(i))"
   ]
  },
  {
   "attachments": {},
   "cell_type": "markdown",
   "metadata": {},
   "source": [
    "# Kullback Leibler Divergence \n"
   ]
  }
 ],
 "metadata": {
  "kernelspec": {
   "display_name": "Python 3",
   "language": "python",
   "name": "python3"
  },
  "language_info": {
   "codemirror_mode": {
    "name": "ipython",
    "version": 3
   },
   "file_extension": ".py",
   "mimetype": "text/x-python",
   "name": "python",
   "nbconvert_exporter": "python",
   "pygments_lexer": "ipython3",
   "version": "3.10.0"
  },
  "orig_nbformat": 4,
  "vscode": {
   "interpreter": {
    "hash": "0f7139aef4795d9eb39e09157cabd5853434e18576f4c8e95df8038aa9d51e3f"
   }
  }
 },
 "nbformat": 4,
 "nbformat_minor": 2
}
