{
 "cells": [
  {
   "cell_type": "markdown",
   "metadata": {},
   "source": [
    "# Velocity metrics\n",
    "Goal is to use ground truth files extract pose data calculate velocity using this data."
   ]
  },
  {
   "cell_type": "code",
   "execution_count": 1,
   "metadata": {},
   "outputs": [],
   "source": [
    "from copy import copy\n",
    "import os\n",
    "import numpy as np\n",
    "import sys\n",
    "import pandas as pd "
   ]
  },
  {
   "cell_type": "code",
   "execution_count": 2,
   "metadata": {},
   "outputs": [],
   "source": [
    "# Import local code\n",
    "bachelorpath = os.path.normpath(os.getcwd() + os.sep + os.pardir)\n",
    "scriptpath = bachelorpath + '/scripts/'\n",
    "sys.path.insert(0, scriptpath)\n",
    "import BP_ratio as bp\n",
    "import dataset_plotting as dp\n",
    "import motion_blur as mb \n",
    "import entropy as en\n",
    "import tkinter as tk\n",
    "from tkinter import filedialog\n",
    "\n",
    "def select_file():\n",
    "    root = tk.Tk()\n",
    "    root.withdraw()\n",
    "    file_path = filedialog.askopenfilename()\n",
    "    return file_path\n",
    "def select_dir():\n",
    "    root = tk.Tk()\n",
    "    root.withdraw()\n",
    "    dir_path = filedialog.askdirectory()\n",
    "    return dir_path"
   ]
  },
  {
   "cell_type": "code",
   "execution_count": 3,
   "metadata": {},
   "outputs": [],
   "source": [
    "euroc_path = select_dir()"
   ]
  },
  {
   "cell_type": "code",
   "execution_count": 4,
   "metadata": {},
   "outputs": [],
   "source": [
    "# select a EuRoC dataset:\n",
    "euroc_mh1_gt = pd.read_csv(euroc_path + \"/mh1/data.csv\")\n",
    "euroc_mh4_gt = pd.read_csv(euroc_path + \"/mh4/data.csv\")\n",
    "euroc_mh5_gt = pd.read_csv(euroc_path + \"/mh5/data.csv\")"
   ]
  },
  {
   "cell_type": "code",
   "execution_count": 5,
   "metadata": {},
   "outputs": [
    {
     "data": {
      "text/html": [
       "<div>\n",
       "<style scoped>\n",
       "    .dataframe tbody tr th:only-of-type {\n",
       "        vertical-align: middle;\n",
       "    }\n",
       "\n",
       "    .dataframe tbody tr th {\n",
       "        vertical-align: top;\n",
       "    }\n",
       "\n",
       "    .dataframe thead th {\n",
       "        text-align: right;\n",
       "    }\n",
       "</style>\n",
       "<table border=\"1\" class=\"dataframe\">\n",
       "  <thead>\n",
       "    <tr style=\"text-align: right;\">\n",
       "      <th></th>\n",
       "      <th>#timestamp</th>\n",
       "      <th>p_RS_R_x [m]</th>\n",
       "      <th>p_RS_R_y [m]</th>\n",
       "      <th>p_RS_R_z [m]</th>\n",
       "      <th>q_RS_w []</th>\n",
       "      <th>q_RS_x []</th>\n",
       "      <th>q_RS_y []</th>\n",
       "      <th>q_RS_z []</th>\n",
       "      <th>v_RS_R_x [m s^-1]</th>\n",
       "      <th>v_RS_R_y [m s^-1]</th>\n",
       "      <th>v_RS_R_z [m s^-1]</th>\n",
       "      <th>b_w_RS_S_x [rad s^-1]</th>\n",
       "      <th>b_w_RS_S_y [rad s^-1]</th>\n",
       "      <th>b_w_RS_S_z [rad s^-1]</th>\n",
       "      <th>b_a_RS_S_x [m s^-2]</th>\n",
       "      <th>b_a_RS_S_y [m s^-2]</th>\n",
       "      <th>b_a_RS_S_z [m s^-2]</th>\n",
       "    </tr>\n",
       "  </thead>\n",
       "  <tbody>\n",
       "    <tr>\n",
       "      <th>0</th>\n",
       "      <td>1403636580838555648</td>\n",
       "      <td>4.688319</td>\n",
       "      <td>-1.786938</td>\n",
       "      <td>0.783338</td>\n",
       "      <td>0.534108</td>\n",
       "      <td>-0.153029</td>\n",
       "      <td>-0.827383</td>\n",
       "      <td>-0.082152</td>\n",
       "      <td>-0.027876</td>\n",
       "      <td>0.033207</td>\n",
       "      <td>0.800006</td>\n",
       "      <td>-0.003172</td>\n",
       "      <td>0.021267</td>\n",
       "      <td>0.078502</td>\n",
       "      <td>-0.025266</td>\n",
       "      <td>0.136696</td>\n",
       "      <td>0.075593</td>\n",
       "    </tr>\n",
       "    <tr>\n",
       "      <th>1</th>\n",
       "      <td>1403636580843555328</td>\n",
       "      <td>4.688177</td>\n",
       "      <td>-1.786770</td>\n",
       "      <td>0.787350</td>\n",
       "      <td>0.534640</td>\n",
       "      <td>-0.152990</td>\n",
       "      <td>-0.826976</td>\n",
       "      <td>-0.082863</td>\n",
       "      <td>-0.029272</td>\n",
       "      <td>0.033992</td>\n",
       "      <td>0.804771</td>\n",
       "      <td>-0.003172</td>\n",
       "      <td>0.021267</td>\n",
       "      <td>0.078502</td>\n",
       "      <td>-0.025266</td>\n",
       "      <td>0.136696</td>\n",
       "      <td>0.075593</td>\n",
       "    </tr>\n",
       "    <tr>\n",
       "      <th>2</th>\n",
       "      <td>1403636580848555520</td>\n",
       "      <td>4.688028</td>\n",
       "      <td>-1.786598</td>\n",
       "      <td>0.791382</td>\n",
       "      <td>0.535178</td>\n",
       "      <td>-0.152945</td>\n",
       "      <td>-0.826562</td>\n",
       "      <td>-0.083605</td>\n",
       "      <td>-0.030043</td>\n",
       "      <td>0.034999</td>\n",
       "      <td>0.808240</td>\n",
       "      <td>-0.003172</td>\n",
       "      <td>0.021267</td>\n",
       "      <td>0.078502</td>\n",
       "      <td>-0.025266</td>\n",
       "      <td>0.136696</td>\n",
       "      <td>0.075593</td>\n",
       "    </tr>\n",
       "    <tr>\n",
       "      <th>3</th>\n",
       "      <td>1403636580853555456</td>\n",
       "      <td>4.687878</td>\n",
       "      <td>-1.786421</td>\n",
       "      <td>0.795429</td>\n",
       "      <td>0.535715</td>\n",
       "      <td>-0.152884</td>\n",
       "      <td>-0.826146</td>\n",
       "      <td>-0.084391</td>\n",
       "      <td>-0.030230</td>\n",
       "      <td>0.035853</td>\n",
       "      <td>0.810462</td>\n",
       "      <td>-0.003172</td>\n",
       "      <td>0.021267</td>\n",
       "      <td>0.078502</td>\n",
       "      <td>-0.025266</td>\n",
       "      <td>0.136696</td>\n",
       "      <td>0.075593</td>\n",
       "    </tr>\n",
       "    <tr>\n",
       "      <th>4</th>\n",
       "      <td>1403636580858555648</td>\n",
       "      <td>4.687727</td>\n",
       "      <td>-1.786240</td>\n",
       "      <td>0.799484</td>\n",
       "      <td>0.536244</td>\n",
       "      <td>-0.152821</td>\n",
       "      <td>-0.825731</td>\n",
       "      <td>-0.085213</td>\n",
       "      <td>-0.029905</td>\n",
       "      <td>0.036316</td>\n",
       "      <td>0.811406</td>\n",
       "      <td>-0.003172</td>\n",
       "      <td>0.021267</td>\n",
       "      <td>0.078502</td>\n",
       "      <td>-0.025266</td>\n",
       "      <td>0.136696</td>\n",
       "      <td>0.075593</td>\n",
       "    </tr>\n",
       "    <tr>\n",
       "      <th>...</th>\n",
       "      <td>...</td>\n",
       "      <td>...</td>\n",
       "      <td>...</td>\n",
       "      <td>...</td>\n",
       "      <td>...</td>\n",
       "      <td>...</td>\n",
       "      <td>...</td>\n",
       "      <td>...</td>\n",
       "      <td>...</td>\n",
       "      <td>...</td>\n",
       "      <td>...</td>\n",
       "      <td>...</td>\n",
       "      <td>...</td>\n",
       "      <td>...</td>\n",
       "      <td>...</td>\n",
       "      <td>...</td>\n",
       "      <td>...</td>\n",
       "    </tr>\n",
       "    <tr>\n",
       "      <th>36377</th>\n",
       "      <td>1403636762723555584</td>\n",
       "      <td>4.575397</td>\n",
       "      <td>-1.940927</td>\n",
       "      <td>0.625653</td>\n",
       "      <td>0.579374</td>\n",
       "      <td>-0.042467</td>\n",
       "      <td>-0.813699</td>\n",
       "      <td>0.020497</td>\n",
       "      <td>-0.144929</td>\n",
       "      <td>-0.057693</td>\n",
       "      <td>-0.293219</td>\n",
       "      <td>-0.003238</td>\n",
       "      <td>0.021339</td>\n",
       "      <td>0.078290</td>\n",
       "      <td>-0.025497</td>\n",
       "      <td>0.136267</td>\n",
       "      <td>0.076404</td>\n",
       "    </tr>\n",
       "    <tr>\n",
       "      <th>36378</th>\n",
       "      <td>1403636762728555520</td>\n",
       "      <td>4.574676</td>\n",
       "      <td>-1.941212</td>\n",
       "      <td>0.624175</td>\n",
       "      <td>0.579591</td>\n",
       "      <td>-0.042072</td>\n",
       "      <td>-0.813579</td>\n",
       "      <td>0.019925</td>\n",
       "      <td>-0.143544</td>\n",
       "      <td>-0.056428</td>\n",
       "      <td>-0.297881</td>\n",
       "      <td>-0.003238</td>\n",
       "      <td>0.021339</td>\n",
       "      <td>0.078290</td>\n",
       "      <td>-0.025497</td>\n",
       "      <td>0.136267</td>\n",
       "      <td>0.076404</td>\n",
       "    </tr>\n",
       "    <tr>\n",
       "      <th>36379</th>\n",
       "      <td>1403636762733555456</td>\n",
       "      <td>4.573957</td>\n",
       "      <td>-1.941492</td>\n",
       "      <td>0.622673</td>\n",
       "      <td>0.579754</td>\n",
       "      <td>-0.041647</td>\n",
       "      <td>-0.813499</td>\n",
       "      <td>0.019369</td>\n",
       "      <td>-0.144037</td>\n",
       "      <td>-0.055375</td>\n",
       "      <td>-0.302814</td>\n",
       "      <td>-0.003238</td>\n",
       "      <td>0.021339</td>\n",
       "      <td>0.078290</td>\n",
       "      <td>-0.025497</td>\n",
       "      <td>0.136267</td>\n",
       "      <td>0.076404</td>\n",
       "    </tr>\n",
       "    <tr>\n",
       "      <th>36380</th>\n",
       "      <td>1403636762738555392</td>\n",
       "      <td>4.573240</td>\n",
       "      <td>-1.941764</td>\n",
       "      <td>0.621155</td>\n",
       "      <td>0.579935</td>\n",
       "      <td>-0.041213</td>\n",
       "      <td>-0.813404</td>\n",
       "      <td>0.018851</td>\n",
       "      <td>-0.142618</td>\n",
       "      <td>-0.053455</td>\n",
       "      <td>-0.304619</td>\n",
       "      <td>-0.003238</td>\n",
       "      <td>0.021339</td>\n",
       "      <td>0.078290</td>\n",
       "      <td>-0.025497</td>\n",
       "      <td>0.136267</td>\n",
       "      <td>0.076404</td>\n",
       "    </tr>\n",
       "    <tr>\n",
       "      <th>36381</th>\n",
       "      <td>1403636762743555584</td>\n",
       "      <td>4.572531</td>\n",
       "      <td>-1.942023</td>\n",
       "      <td>0.619620</td>\n",
       "      <td>0.580133</td>\n",
       "      <td>-0.040790</td>\n",
       "      <td>-0.813293</td>\n",
       "      <td>0.018340</td>\n",
       "      <td>-0.141494</td>\n",
       "      <td>-0.050257</td>\n",
       "      <td>-0.308321</td>\n",
       "      <td>-0.003238</td>\n",
       "      <td>0.021339</td>\n",
       "      <td>0.078290</td>\n",
       "      <td>-0.025497</td>\n",
       "      <td>0.136267</td>\n",
       "      <td>0.076404</td>\n",
       "    </tr>\n",
       "  </tbody>\n",
       "</table>\n",
       "<p>36382 rows × 17 columns</p>\n",
       "</div>"
      ],
      "text/plain": [
       "                #timestamp   p_RS_R_x [m]   p_RS_R_y [m]   p_RS_R_z [m]  \\\n",
       "0      1403636580838555648       4.688319      -1.786938       0.783338   \n",
       "1      1403636580843555328       4.688177      -1.786770       0.787350   \n",
       "2      1403636580848555520       4.688028      -1.786598       0.791382   \n",
       "3      1403636580853555456       4.687878      -1.786421       0.795429   \n",
       "4      1403636580858555648       4.687727      -1.786240       0.799484   \n",
       "...                    ...            ...            ...            ...   \n",
       "36377  1403636762723555584       4.575397      -1.940927       0.625653   \n",
       "36378  1403636762728555520       4.574676      -1.941212       0.624175   \n",
       "36379  1403636762733555456       4.573957      -1.941492       0.622673   \n",
       "36380  1403636762738555392       4.573240      -1.941764       0.621155   \n",
       "36381  1403636762743555584       4.572531      -1.942023       0.619620   \n",
       "\n",
       "        q_RS_w []   q_RS_x []   q_RS_y []   q_RS_z []   v_RS_R_x [m s^-1]  \\\n",
       "0        0.534108   -0.153029   -0.827383   -0.082152           -0.027876   \n",
       "1        0.534640   -0.152990   -0.826976   -0.082863           -0.029272   \n",
       "2        0.535178   -0.152945   -0.826562   -0.083605           -0.030043   \n",
       "3        0.535715   -0.152884   -0.826146   -0.084391           -0.030230   \n",
       "4        0.536244   -0.152821   -0.825731   -0.085213           -0.029905   \n",
       "...           ...         ...         ...         ...                 ...   \n",
       "36377    0.579374   -0.042467   -0.813699    0.020497           -0.144929   \n",
       "36378    0.579591   -0.042072   -0.813579    0.019925           -0.143544   \n",
       "36379    0.579754   -0.041647   -0.813499    0.019369           -0.144037   \n",
       "36380    0.579935   -0.041213   -0.813404    0.018851           -0.142618   \n",
       "36381    0.580133   -0.040790   -0.813293    0.018340           -0.141494   \n",
       "\n",
       "        v_RS_R_y [m s^-1]   v_RS_R_z [m s^-1]   b_w_RS_S_x [rad s^-1]  \\\n",
       "0                0.033207            0.800006               -0.003172   \n",
       "1                0.033992            0.804771               -0.003172   \n",
       "2                0.034999            0.808240               -0.003172   \n",
       "3                0.035853            0.810462               -0.003172   \n",
       "4                0.036316            0.811406               -0.003172   \n",
       "...                   ...                 ...                     ...   \n",
       "36377           -0.057693           -0.293219               -0.003238   \n",
       "36378           -0.056428           -0.297881               -0.003238   \n",
       "36379           -0.055375           -0.302814               -0.003238   \n",
       "36380           -0.053455           -0.304619               -0.003238   \n",
       "36381           -0.050257           -0.308321               -0.003238   \n",
       "\n",
       "        b_w_RS_S_y [rad s^-1]   b_w_RS_S_z [rad s^-1]   b_a_RS_S_x [m s^-2]  \\\n",
       "0                    0.021267                0.078502             -0.025266   \n",
       "1                    0.021267                0.078502             -0.025266   \n",
       "2                    0.021267                0.078502             -0.025266   \n",
       "3                    0.021267                0.078502             -0.025266   \n",
       "4                    0.021267                0.078502             -0.025266   \n",
       "...                       ...                     ...                   ...   \n",
       "36377                0.021339                0.078290             -0.025497   \n",
       "36378                0.021339                0.078290             -0.025497   \n",
       "36379                0.021339                0.078290             -0.025497   \n",
       "36380                0.021339                0.078290             -0.025497   \n",
       "36381                0.021339                0.078290             -0.025497   \n",
       "\n",
       "        b_a_RS_S_y [m s^-2]   b_a_RS_S_z [m s^-2]  \n",
       "0                  0.136696              0.075593  \n",
       "1                  0.136696              0.075593  \n",
       "2                  0.136696              0.075593  \n",
       "3                  0.136696              0.075593  \n",
       "4                  0.136696              0.075593  \n",
       "...                     ...                   ...  \n",
       "36377              0.136267              0.076404  \n",
       "36378              0.136267              0.076404  \n",
       "36379              0.136267              0.076404  \n",
       "36380              0.136267              0.076404  \n",
       "36381              0.136267              0.076404  \n",
       "\n",
       "[36382 rows x 17 columns]"
      ]
     },
     "execution_count": 5,
     "metadata": {},
     "output_type": "execute_result"
    }
   ],
   "source": [
    "# print dataframe to figure out what cols are containing velocity:\n",
    "euroc_mh1_gt"
   ]
  },
  {
   "cell_type": "code",
   "execution_count": 6,
   "metadata": {},
   "outputs": [],
   "source": [
    "# cols 6:9 are containing our desired values.\n",
    "euroc_mh1_v = euroc_mh1_gt.iloc[:,8:11]\n",
    "euroc_mh4_v = euroc_mh4_gt.iloc[:,8:11]\n",
    "euroc_mh5_v = euroc_mh5_gt.iloc[:,8:11]"
   ]
  },
  {
   "cell_type": "code",
   "execution_count": 7,
   "metadata": {},
   "outputs": [
    {
     "data": {
      "text/plain": [
       "<AxesSubplot:>"
      ]
     },
     "execution_count": 7,
     "metadata": {},
     "output_type": "execute_result"
    },
    {
     "data": {
      "image/png": "[encoded data removed]",
      "text/plain": [
       "<Figure size 640x480 with 1 Axes>"
      ]
     },
     "metadata": {},
     "output_type": "display_data"
    }
   ],
   "source": [
    "# can find average magnitude of velocity\n",
    "euroc_mh1_v_mag = euroc_mh1_v.apply(np.linalg.norm, axis=1)\n",
    "euroc_mh1_v_mag.hist(bins=dp.feedman_bins(euroc_mh1_v_mag))"
   ]
  },
  {
   "cell_type": "code",
   "execution_count": 8,
   "metadata": {},
   "outputs": [
    {
     "data": {
      "text/plain": [
       "<AxesSubplot:>"
      ]
     },
     "execution_count": 8,
     "metadata": {},
     "output_type": "execute_result"
    },
    {
     "data": {
      "image/png": "[encoded data removed]",
      "text/plain": [
       "<Figure size 640x480 with 1 Axes>"
      ]
     },
     "metadata": {},
     "output_type": "display_data"
    }
   ],
   "source": [
    "euroc_mh4_v_mag = euroc_mh4_v.apply(np.linalg.norm, axis=1)\n",
    "euroc_mh4_v_mag.hist(bins=dp.feedman_bins(euroc_mh4_v_mag))"
   ]
  },
  {
   "cell_type": "code",
   "execution_count": 9,
   "metadata": {},
   "outputs": [
    {
     "data": {
      "text/plain": [
       "<AxesSubplot:>"
      ]
     },
     "execution_count": 9,
     "metadata": {},
     "output_type": "execute_result"
    },
    {
     "data": {
      "image/png": "[encoded data removed]",
      "text/plain": [
       "<Figure size 640x480 with 1 Axes>"
      ]
     },
     "metadata": {},
     "output_type": "display_data"
    }
   ],
   "source": [
    "euroc_mh5_v_mag = euroc_mh5_v.apply(np.linalg.norm, axis=1)\n",
    "euroc_mh5_v_mag.hist(bins=dp.feedman_bins(euroc_mh5_v_mag))"
   ]
  },
  {
   "cell_type": "code",
   "execution_count": 10,
   "metadata": {},
   "outputs": [],
   "source": [
    "# calculate entropy of data:\n",
    "e_mh1 = en.calculate_shannon_entropy(euroc_mh1_v_mag)\n",
    "e_mh4 = en.calculate_shannon_entropy(euroc_mh4_v_mag)\n",
    "e_mh5 = en.calculate_shannon_entropy(euroc_mh5_v_mag)"
   ]
  },
  {
   "cell_type": "code",
   "execution_count": 11,
   "metadata": {},
   "outputs": [
    {
     "name": "stdout",
     "output_type": "stream",
     "text": [
      "Entropy for mh1:  15.150827288424683\n",
      "Entropy for mh4:  14.269784159754545\n",
      "Entropy for mh5:  14.439051680586159\n"
     ]
    }
   ],
   "source": [
    "print(\"Entropy for mh1: \", e_mh1)\n",
    "print(\"Entropy for mh4: \", e_mh4)\n",
    "print(\"Entropy for mh5: \", e_mh5)"
   ]
  }
 ],
 "metadata": {
  "kernelspec": {
   "display_name": "Python 3",
   "language": "python",
   "name": "python3"
  },
  "language_info": {
   "codemirror_mode": {
    "name": "ipython",
    "version": 3
   },
   "file_extension": ".py",
   "mimetype": "text/x-python",
   "name": "python",
   "nbconvert_exporter": "python",
   "pygments_lexer": "ipython3",
   "version": "3.8.5"
  },
  "orig_nbformat": 4,
  "vscode": {
   "interpreter": {
    "hash": "da0d48037fecca37f56515c664162e37f8bb5bc7232f33cc4d8c7c3e25b8c765"
   }
  }
 },
 "nbformat": 4,
 "nbformat_minor": 2
}
