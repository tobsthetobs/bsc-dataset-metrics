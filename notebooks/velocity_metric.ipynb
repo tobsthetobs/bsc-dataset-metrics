{
 "cells": [
  {
   "cell_type": "markdown",
   "metadata": {},
   "source": [
    "# Velocity metrics\n",
    "Goal is to use ground truth files extract pose data calculate velocity using this data."
   ]
  },
  {
   "cell_type": "code",
   "execution_count": null,
   "metadata": {},
   "outputs": [],
   "source": [
    "from copy import copy\n",
    "import os\n",
    "import numpy as np\n",
    "import sys\n",
    "import pandas as pd "
   ]
  },
  {
   "cell_type": "code",
   "execution_count": null,
   "metadata": {},
   "outputs": [],
   "source": [
    "# Import local code\n",
    "bachelorpath = os.path.normpath(os.getcwd() + os.sep + os.pardir)\n",
    "scriptpath = bachelorpath + '/scripts/'\n",
    "sys.path.insert(0, scriptpath)\n",
    "import BP_ratio as bp\n",
    "import dataset_plotting as dp\n",
    "import motion_blur as mb \n",
    "import imu_accel as imu_accel"
   ]
  }
 ],
 "metadata": {
  "kernelspec": {
   "display_name": "Python 3",
   "language": "python",
   "name": "python3"
  },
  "language_info": {
   "name": "python",
   "version": "3.8.5"
  },
  "orig_nbformat": 4
 },
 "nbformat": 4,
 "nbformat_minor": 2
}
