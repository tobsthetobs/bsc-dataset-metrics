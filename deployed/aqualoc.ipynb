{
 "cells": [
  {
   "attachments": {},
   "cell_type": "markdown",
   "metadata": {},
   "source": [
    "# Metric for AQUALOC\n",
    "Dataset is found at: [AQUALOC](https://seafile.lirmm.fr/d/79b03788f29148ca84e5/?p=%2F)"
   ]
  },
  {
   "cell_type": "code",
   "execution_count": null,
   "metadata": {},
   "outputs": [],
   "source": [
    "# Imports\n",
    "import os\n",
    "import numpy as np\n",
    "import sys\n",
    "import pandas as pd \n",
    "# Import local code\n",
    "bachelorpath = os.path.normpath(os.getcwd() + os.sep + os.pardir)\n",
    "scriptpath = bachelorpath + '/scripts/'\n",
    "sys.path.insert(0, scriptpath)\n",
    "import BP_ratio as bp\n",
    "import dataset_plotting as dp\n",
    "import motion_blur as mb \n",
    "import entropy as en\n",
    "import importlib\n",
    "importlib.reload(bp)\n",
    "importlib.reload(dp)\n",
    "importlib.reload(mb)\n",
    "importlib.reload(en)\n",
    "import tkinter as tk\n",
    "from tkinter import filedialog\n",
    "\n",
    "def select_file():\n",
    "    root = tk.Tk()\n",
    "    root.withdraw()\n",
    "    file_path = filedialog.askopenfilename()\n",
    "    return file_path\n",
    "def select_dir():\n",
    "    root = tk.Tk()\n",
    "    root.withdraw()\n",
    "    dir_path = filedialog.askdirectory()\n",
    "    return dir_path"
   ]
  }
 ],
 "metadata": {
  "language_info": {
   "name": "python"
  },
  "orig_nbformat": 4
 },
 "nbformat": 4,
 "nbformat_minor": 2
}
