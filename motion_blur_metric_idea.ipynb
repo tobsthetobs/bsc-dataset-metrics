{
 "cells": [
  {
   "attachments": {},
   "cell_type": "markdown",
   "metadata": {},
   "source": [
    "# Motion blur metric idea\n",
    "Idea is to find a simple metric which can descibe if an image is blured then maybe hold ratio of blurred images up to non blurred image much like brightness metric idea.\n",
    "\n",
    "\n",
    "Many methods can be found as it is already a studied field. Methods such as fast fourier transform on a image then looking at the high and low frequency components can lead to making a difficult decision for where to place the thresholds of what constitutes a \"high\" amount of high frequency components etc. \n",
    "\n",
    "Having therefore searched for already existing algorithms/studies for different methods most of them looking at grayscale statistics. There is a different method: variation of the Laplacian [study](https://ieeexplore.ieee.org/document/903548)  "
   ]
  },
  {
   "cell_type": "code",
   "execution_count": 1,
   "metadata": {},
   "outputs": [],
   "source": [
    "# Import statements\n",
    "from imageio import imread, imwrite\n",
    "from pylab import *\n",
    "from skimage.util import img_as_ubyte, img_as_float\n",
    "import numpy as np\n",
    "import seaborn as sns\n",
    "import matplotlib.pyplot as plt\n",
    "import cv2\n",
    "from matplotlib.pyplot import imshow\n",
    "from copy import copy"
   ]
  },
  {
   "cell_type": "code",
   "execution_count": 9,
   "metadata": {},
   "outputs": [],
   "source": [
    "# Routinely have to update this import so it is seperated from the other imports\n",
    "import dataset_plotting as dp\n",
    "import BP_ratio as bp\n",
    "import motion_blur as mb"
   ]
  },
  {
   "cell_type": "code",
   "execution_count": 11,
   "metadata": {},
   "outputs": [],
   "source": [
    "# Reading image:\n",
    "e45_5 = imread(\"Images/e45_5.jpg\")\n",
    "# Load to grayscale:\n",
    "e45_5_gs = bp.load_to_colorspace(e45_5,\"GRAY\")"
   ]
  },
  {
   "cell_type": "code",
   "execution_count": 12,
   "metadata": {},
   "outputs": [
    {
     "data": {
      "text/plain": [
       "857.7424962612153"
      ]
     },
     "execution_count": 12,
     "metadata": {},
     "output_type": "execute_result"
    }
   ],
   "source": [
    "# Use Laplacian with openCV\n",
    "cv2.Laplacian(e45_5_gs, cv2.CV_64F).var()"
   ]
  }
 ],
 "metadata": {
  "kernelspec": {
   "display_name": "Python 3",
   "language": "python",
   "name": "python3"
  },
  "language_info": {
   "codemirror_mode": {
    "name": "ipython",
    "version": 3
   },
   "file_extension": ".py",
   "mimetype": "text/x-python",
   "name": "python",
   "nbconvert_exporter": "python",
   "pygments_lexer": "ipython3",
   "version": "3.8.5"
  },
  "orig_nbformat": 4,
  "vscode": {
   "interpreter": {
    "hash": "da0d48037fecca37f56515c664162e37f8bb5bc7232f33cc4d8c7c3e25b8c765"
   }
  }
 },
 "nbformat": 4,
 "nbformat_minor": 2
}
