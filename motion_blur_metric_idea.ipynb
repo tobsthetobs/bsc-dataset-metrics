{
 "cells": [
  {
   "attachments": {},
   "cell_type": "markdown",
   "metadata": {},
   "source": [
    "# Motion blur metric idea\n",
    "Idea is to find a simple metric which can descibe if an image is blured then maybe hold ratio of blurred images up to non blurred image much like brightness metric idea.\n",
    "\n",
    "\n",
    "Many methods can be found as it is already a studied field. Methods such as fast fourier transform on a image then looking at the high and low frequency components can lead to making a difficult decision for where to place the thresholds of what constitutes a \"high\" amount of high frequency components etc. \n",
    "\n",
    "Having therefore searched for already existing algorithms/studies for different methods most of them looking at grayscale statistics. There is a different method: variation of the Laplacian [study](https://ieeexplore.ieee.org/document/903548) that will give us a singular value for each image to determine if an image is blurry.  "
   ]
  },
  {
   "cell_type": "code",
   "execution_count": 16,
   "metadata": {},
   "outputs": [],
   "source": [
    "# Import statements\n",
    "from imageio import imread, imwrite\n",
    "from pylab import *\n",
    "from skimage.util import img_as_ubyte, img_as_float\n",
    "import numpy as np\n",
    "import seaborn as sns\n",
    "import matplotlib.pyplot as plt\n",
    "import cv2\n",
    "from matplotlib.pyplot import imshow\n",
    "from copy import copy\n",
    "import seaborn as sns"
   ]
  },
  {
   "cell_type": "code",
   "execution_count": 2,
   "metadata": {},
   "outputs": [],
   "source": [
    "# Routinely have to update this import so it is seperated from the other imports\n",
    "import dataset_plotting as dp\n",
    "import BP_ratio as bp\n",
    "import motion_blur as mb"
   ]
  },
  {
   "cell_type": "code",
   "execution_count": 3,
   "metadata": {},
   "outputs": [],
   "source": [
    "# Reading image:\n",
    "maden= imread(\"Images/Maden.jpg\")\n",
    "# Load to grayscale:\n",
    "maden_gs = bp.load_to_colorspace(maden,\"GRAY\")"
   ]
  },
  {
   "cell_type": "code",
   "execution_count": 4,
   "metadata": {},
   "outputs": [
    {
     "data": {
      "text/plain": [
       "348.3379409722221"
      ]
     },
     "execution_count": 4,
     "metadata": {},
     "output_type": "execute_result"
    }
   ],
   "source": [
    "# Use Laplacian with openCV\n",
    "cv2.Laplacian(maden_gs, cv2.CV_64F).var()"
   ]
  },
  {
   "attachments": {},
   "cell_type": "markdown",
   "metadata": {},
   "source": [
    "Lower values indicate if an image is more \"blurry\" if wanting to classify an image as blurry or not blurry you would need a threshold to decide."
   ]
  },
  {
   "cell_type": "code",
   "execution_count": 5,
   "metadata": {},
   "outputs": [
    {
     "data": {
      "text/plain": [
       "[834.4416817817582,\n",
       " 893.6967465453677,\n",
       " 834.6141177469465,\n",
       " 768.2572175546857,\n",
       " 882.8835218301986,\n",
       " 846.2752818983288,\n",
       " 858.156367929575,\n",
       " 852.2598476435238,\n",
       " 858.6192861053044,\n",
       " 857.7424962612153,\n",
       " 929.6288008656397,\n",
       " 880.1105194701726,\n",
       " 839.9297136026063,\n",
       " 832.4628784205013]"
      ]
     },
     "execution_count": 5,
     "metadata": {},
     "output_type": "execute_result"
    }
   ],
   "source": [
    "# Test for a bigger dataset here try E45 images which are of relatively low quality but still not very affected by blur.\n",
    "import os\n",
    "datapath = os.getcwd() + \"/Images/E45/\"\n",
    "datalist = os.listdir(datapath)\n",
    "res = []\n",
    "for file in datalist:\n",
    "    image = bp.load_to_colorspace(imread(os.path.join(datapath, file)), \"GRAY\")\n",
    "    res.append(mb.motion_blur_laplacian(image))\n",
    "res  "
   ]
  },
  {
   "cell_type": "code",
   "execution_count": 6,
   "metadata": {},
   "outputs": [
    {
     "name": "stdout",
     "output_type": "stream",
     "text": [
      "Scanning next folder current total of images processed:  4586\n",
      "Scanning next folder current total of images processed:  12728\n",
      "Scanning next folder current total of images processed:  17879\n",
      "Scanning next folder current total of images processed:  22004\n",
      "Scanning next folder current total of images processed:  25462\n",
      "Scanning next folder current total of images processed:  27999\n",
      "Scanning next folder current total of images processed:  30260\n"
     ]
    }
   ],
   "source": [
    "# Try deploy on AQUALOC:\n",
    "blurdata_aqualoc = mb.load_aqualoc_dataset()"
   ]
  },
  {
   "cell_type": "code",
   "execution_count": 7,
   "metadata": {},
   "outputs": [
    {
     "name": "stdout",
     "output_type": "stream",
     "text": [
      "Largest variance in laplacian:  1455.501864603451\n",
      "Smallest variance in laplacian:  22.85036114542745\n"
     ]
    }
   ],
   "source": [
    "# Print largest and smallest values in data:\n",
    "print(\"Largest variance in laplacian: \", np.max(blurdata_aqualoc))\n",
    "print(\"Smallest variance in laplacian: \", np.min(blurdata_aqualoc))"
   ]
  },
  {
   "cell_type": "code",
   "execution_count": 20,
   "metadata": {},
   "outputs": [
    {
     "name": "stdout",
     "output_type": "stream",
     "text": [
      "53.89736477943836 196.42312355211243\n"
     ]
    }
   ],
   "source": [
    "q25, q75 = np.percentile(blurdata_aqualoc, [25, 75])\n",
    "print(q25, q75)"
   ]
  },
  {
   "cell_type": "code",
   "execution_count": 19,
   "metadata": {},
   "outputs": [
    {
     "data": {
      "text/plain": [
       "<AxesSubplot:ylabel='Count'>"
      ]
     },
     "execution_count": 19,
     "metadata": {},
     "output_type": "execute_result"
    },
    {
     "data": {
      "image/png": "[encoded data removed]",
      "text/plain": [
       "<Figure size 640x480 with 1 Axes>"
      ]
     },
     "metadata": {},
     "output_type": "display_data"
    }
   ],
   "source": [
    "sns.histplot(blurdata_aqualoc, bins=dp.feedman_bins(blurdata_aqualoc))"
   ]
  },
  {
   "cell_type": "code",
   "execution_count": 23,
   "metadata": {},
   "outputs": [
    {
     "data": {
      "text/plain": [
       "92.00866225997359"
      ]
     },
     "execution_count": 23,
     "metadata": {},
     "output_type": "execute_result"
    }
   ],
   "source": [
    "# Histogram indicates lots of images below 100 lets try and figure out percentile:\n",
    "np.percentile(blurdata_aqualoc, 40)"
   ]
  },
  {
   "cell_type": "code",
   "execution_count": 24,
   "metadata": {},
   "outputs": [
    {
     "data": {
      "text/plain": [
       "<AxesSubplot:>"
      ]
     },
     "execution_count": 24,
     "metadata": {},
     "output_type": "execute_result"
    },
    {
     "data": {
      "image/png": "[encoded data removed]",
      "text/plain": [
       "<Figure size 640x480 with 1 Axes>"
      ]
     },
     "metadata": {},
     "output_type": "display_data"
    }
   ],
   "source": [
    "# Perhaps a boxplot will be more useful:\n",
    "sns.boxplot(blurdata_aqualoc)"
   ]
  },
  {
   "cell_type": "code",
   "execution_count": 8,
   "metadata": {},
   "outputs": [
    {
     "name": "stdout",
     "output_type": "stream",
     "text": [
      "Scanning next folder current total of images processed:  2033\n",
      "Scanning next folder current total of images processed:  4065\n"
     ]
    }
   ],
   "source": [
    "# Try deploy on AQUALOC:\n",
    "blurdata_euroc = mb.load_euroc_dataset()"
   ]
  },
  {
   "cell_type": "code",
   "execution_count": 9,
   "metadata": {},
   "outputs": [
    {
     "name": "stdout",
     "output_type": "stream",
     "text": [
      "Largest variance in laplacian:  1422.4440262500034\n",
      "Smallest variance in laplacian:  82.13280661034227\n"
     ]
    }
   ],
   "source": [
    "# Print largest and smallest values in data:\n",
    "print(\"Largest variance in laplacian: \", np.max(blurdata_euroc))\n",
    "print(\"Smallest variance in laplacian: \", np.min(blurdata_euroc))"
   ]
  },
  {
   "cell_type": "code",
   "execution_count": 21,
   "metadata": {},
   "outputs": [
    {
     "name": "stdout",
     "output_type": "stream",
     "text": [
      "241.93854481374106 634.3971740928042\n"
     ]
    }
   ],
   "source": [
    "q25, q75 = np.percentile(blurdata_euroc, [25, 75])\n",
    "print(q25, q75)"
   ]
  },
  {
   "cell_type": "code",
   "execution_count": 22,
   "metadata": {},
   "outputs": [
    {
     "data": {
      "text/plain": [
       "<AxesSubplot:ylabel='Count'>"
      ]
     },
     "execution_count": 22,
     "metadata": {},
     "output_type": "execute_result"
    },
    {
     "data": {
      "image/png": "[encoded data removed]",
      "text/plain": [
       "<Figure size 640x480 with 1 Axes>"
      ]
     },
     "metadata": {},
     "output_type": "display_data"
    }
   ],
   "source": [
    "sns.histplot(blurdata_euroc, bins=dp.feedman_bins(blurdata_euroc))"
   ]
  },
  {
   "cell_type": "code",
   "execution_count": 25,
   "metadata": {},
   "outputs": [
    {
     "data": {
      "text/plain": [
       "<AxesSubplot:>"
      ]
     },
     "execution_count": 25,
     "metadata": {},
     "output_type": "execute_result"
    },
    {
     "data": {
      "image/png": "[encoded data removed]",
      "text/plain": [
       "<Figure size 640x480 with 1 Axes>"
      ]
     },
     "metadata": {},
     "output_type": "display_data"
    }
   ],
   "source": [
    "sns.boxplot(blurdata_euroc)"
   ]
  }
 ],
 "metadata": {
  "kernelspec": {
   "display_name": "Python 3",
   "language": "python",
   "name": "python3"
  },
  "language_info": {
   "codemirror_mode": {
    "name": "ipython",
    "version": 3
   },
   "file_extension": ".py",
   "mimetype": "text/x-python",
   "name": "python",
   "nbconvert_exporter": "python",
   "pygments_lexer": "ipython3",
   "version": "3.8.5"
  },
  "orig_nbformat": 4,
  "vscode": {
   "interpreter": {
    "hash": "da0d48037fecca37f56515c664162e37f8bb5bc7232f33cc4d8c7c3e25b8c765"
   }
  }
 },
 "nbformat": 4,
 "nbformat_minor": 2
}
